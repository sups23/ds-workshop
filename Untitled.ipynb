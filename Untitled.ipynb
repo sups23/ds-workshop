{
 "cells": [
  {
   "cell_type": "code",
   "execution_count": 1,
   "id": "fab53612",
   "metadata": {},
   "outputs": [],
   "source": [
    "import pickle as pk"
   ]
  },
  {
   "cell_type": "code",
   "execution_count": 2,
   "id": "a7cd651a",
   "metadata": {},
   "outputs": [],
   "source": [
    "fn = \"Finalized_model.sav\"\n",
    "model = pk.load(open(fn, 'rb'))"
   ]
  },
  {
   "cell_type": "code",
   "execution_count": 3,
   "id": "58ac77f0",
   "metadata": {},
   "outputs": [
    {
     "name": "stdout",
     "output_type": "stream",
     "text": [
      "Please enter average income....1\n",
      "Please enter average house age....1\n",
      "Please enter average number of rooms....1\n",
      "Please enter average number of bedrooms....1\n",
      "Please enter average population....1\n"
     ]
    }
   ],
   "source": [
    "income = float(input(\"Please enter average income....\"))\n",
    "house_age = float(input(\"Please enter average house age....\"))\n",
    "no_of_rooms = float(input(\"Please enter average number of rooms....\"))\n",
    "no_of_bedrooms = float(input(\"Please enter average number of bedrooms....\"))\n",
    "population = float(input(\"Please enter average population....\"))\n",
    "test_data = {\n",
    "    'income': income,\n",
    "    'house_age': house_age,\n",
    "    'no_of_rooms': no_of_rooms,\n",
    "    'no_of_bedrooms': no_of_bedrooms,\n",
    "    'population': population,\n",
    "}"
   ]
  },
  {
   "cell_type": "code",
   "execution_count": 4,
   "id": "76998ccd",
   "metadata": {},
   "outputs": [],
   "source": [
    "import pandas as pd"
   ]
  },
  {
   "cell_type": "code",
   "execution_count": 5,
   "id": "1f659429",
   "metadata": {},
   "outputs": [],
   "source": [
    "df = pd.DataFrame(test_data, index=[0])"
   ]
  },
  {
   "cell_type": "code",
   "execution_count": 6,
   "id": "b383ce92",
   "metadata": {},
   "outputs": [
    {
     "data": {
      "text/plain": [
       "-2360779.494194918"
      ]
     },
     "execution_count": 6,
     "metadata": {},
     "output_type": "execute_result"
    }
   ],
   "source": [
    "model.predict(df)[0][0]"
   ]
  },
  {
   "cell_type": "code",
   "execution_count": null,
   "id": "db3a3607",
   "metadata": {},
   "outputs": [],
   "source": []
  }
 ],
 "metadata": {
  "kernelspec": {
   "display_name": "Python 3 (ipykernel)",
   "language": "python",
   "name": "python3"
  },
  "language_info": {
   "codemirror_mode": {
    "name": "ipython",
    "version": 3
   },
   "file_extension": ".py",
   "mimetype": "text/x-python",
   "name": "python",
   "nbconvert_exporter": "python",
   "pygments_lexer": "ipython3",
   "version": "3.10.4"
  }
 },
 "nbformat": 4,
 "nbformat_minor": 5
}
